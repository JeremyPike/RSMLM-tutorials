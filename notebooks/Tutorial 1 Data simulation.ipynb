{
 "cells": [
  {
   "cell_type": "markdown",
   "metadata": {},
   "source": [
    "# Data simulation\n",
    "\n",
    "In this tutorial we demonstrate how to use RSMLM for simulation of dSTORM data. Lets start by loading the RSMLM package:"
   ]
  },
  {
   "cell_type": "code",
   "execution_count": 8,
   "metadata": {},
   "outputs": [],
   "source": [
    "library(RSMLM)"
   ]
  },
  {
   "cell_type": "markdown",
   "metadata": {},
   "source": [
    "## Simulating molecule coordinates\n",
    "\n",
    "The first step in data simulation is the generation of ground truth for molecule/protein positions. We will simulate a simple dataset with four Gaussian clusters, two with a high molecule density and two with a low molecule density. We need to define some parameters for this simulation:"
   ]
  },
  {
   "cell_type": "code",
   "execution_count": 9,
   "metadata": {},
   "outputs": [],
   "source": [
    "# standard deviation for the clusters (two low density and two high)\n",
    "clusterSd <- c(20, 20, 5, 5)\n",
    "\n",
    "# set the number of molecules per cluster\n",
    "numMoleculesPerCluster  <- 50\n",
    "\n",
    "# specify where each cluster should be centered. \n",
    "clusterPositionX <- c(100, 100, 200, 200)\n",
    "clusterPositionY <- c(100, 200, 120, 180)\n",
    "\n",
    "# limits for the field of view. This matrix defines the boundaries for our simulation area.\n",
    "fieldLimits <- matrix(c(0, 300 , 0, 300), nrow = 2, ncol = 2)\n"
   ]
  },
  {
   "cell_type": "markdown",
   "metadata": {},
   "source": [
    "Having defined these parameters we are ready to simulate the molecule positions:"
   ]
  },
  {
   "cell_type": "code",
   "execution_count": 10,
   "metadata": {},
   "outputs": [
    {
     "data": {},
     "metadata": {},
     "output_type": "display_data"
    },
    {
     "data": {
      "image/png": "[encoded data removed]",
      "text/plain": [
       "plot without title"
      ]
     },
     "metadata": {},
     "output_type": "display_data"
    }
   ],
   "source": [
    "# retrieve the number of clusters from the length of the clusterSd vector\n",
    "numClusters <- length(clusterSd)\n",
    "\n",
    "# empty vectors to hold molecule coordinates\n",
    "moleculePositionsX <- c()\n",
    "moleculePositionsY <- c()\n",
    "# to hold the cluster index for each molecule\n",
    "moleculeClusterIndex <- c()\n",
    "\n",
    "# generate Gaussian clusters at specified coordinates using a normal distribution\n",
    "for (i in 1 : numClusters) {\n",
    "    \n",
    "    # add to existing vectors\n",
    "    moleculePositionsX <- c(moleculePositionsX, rnorm(numMoleculesPerCluster, \n",
    "                            mean = clusterPositionX[i], sd = clusterSd[i]))\n",
    "    moleculePositionsY <- c(moleculePositionsY, rnorm(numMoleculesPerCluster, \n",
    "                            mean = clusterPositionY[i], sd = clusterSd[i]))\n",
    "    moleculeClusterIndex <- c(moleculeClusterIndex, rep(i, numMoleculesPerCluster))\n",
    "}\n",
    "\n",
    "# bind the two coordinate vectors together to get a matix containing the molecule coordinates\n",
    "moleculeCoords <- cbind(moleculePositionsX, moleculePositionsY)\n",
    "\n",
    "# plot a scatter plot of the molecule locations, coloured by cluster index\n",
    "plotClusterScatter(moleculeCoords, moleculeClusterIndex)"
   ]
  },
  {
   "cell_type": "markdown",
   "metadata": {},
   "source": [
    "## dSTORM simulation\n",
    "After simulation of molecule positions we apply the dSTORM simulator provided by RSMLM. We must also specify the simulation parameters:"
   ]
  },
  {
   "cell_type": "code",
   "execution_count": 11,
   "metadata": {},
   "outputs": [
    {
     "name": "stdout",
     "output_type": "stream",
     "text": [
      "[1] \"759 detections were simulated\"\n"
     ]
    }
   ],
   "source": [
    "## Simulation parameters:\n",
    "\n",
    "# mean number of fluophores attatched to each molecule\n",
    "averageLabelsPerMol <- 5\n",
    "# blinks per flurophore is based on geometic ditrubtion\n",
    "blinkGeomProb <- 0.5\n",
    "# precision varies per molecule based on lognormal distrubtion\n",
    "# this gives the standard deviation of the normal distribution for detection position\n",
    "# there is one value per dimension\n",
    "precisionMeanLog <- c(2.8, 2.8)\n",
    "precisionSdLog <- c(0.28, 0.28)\n",
    "# for every blinking event what percentage are detected\n",
    "detectionRate  <- 0.7\n",
    "# percentage of false detections to add\n",
    "falseDetectionRate <- 0.1\n",
    "\n",
    "## Run the dSTORM simulator to get a detection list\n",
    "detectionList <- simulateSTORM(moleculeCoords, averageLabelsPerMol, blinkGeomProb, precisionMeanLog,\n",
    "                               precisionSdLog, detectionRate, falseDetectionRate, fieldLimits) \n",
    "\n",
    "numDetections <- dim(detectionList)[1]\n",
    "\n",
    "print(paste(numDetections, 'detections were simulated'))\n",
    "\n"
   ]
  },
  {
   "cell_type": "markdown",
   "metadata": {},
   "source": [
    "The key function here is simulateSTORM(). Given a list of molecule coordinates it performs a simulation of the dSTORM imaging process. It returns a data frame containing the coordinates ('x' and 'y') of each detection, and also the index linking each detection to a molecule ('moleculeIndex'). "
   ]
  },
  {
   "cell_type": "code",
   "execution_count": 12,
   "metadata": {},
   "outputs": [
    {
     "data": {},
     "metadata": {},
     "output_type": "display_data"
    },
    {
     "data": {
      "image/png": "[encoded data removed]",
      "text/plain": [
       "plot without title"
      ]
     },
     "metadata": {},
     "output_type": "display_data"
    }
   ],
   "source": [
    "# call help() to get more information on a function\n",
    "help(simulateSTORM)\n",
    "\n",
    "# plot the results where detections are coloured based on molecule they originate from\n",
    "plotClusterScatter(detectionList[ ,c('x', 'y')], detectionList$moleculeIndex)"
   ]
  },
  {
   "cell_type": "markdown",
   "metadata": {},
   "source": [
    "For each detection we know which molecule it came from, and for every molecule we know which cluster it corresponds to. However if we want a vector linking detections directly to clusters we have a little work to do:"
   ]
  },
  {
   "cell_type": "code",
   "execution_count": 13,
   "metadata": {},
   "outputs": [
    {
     "data": {},
     "metadata": {},
     "output_type": "display_data"
    },
    {
     "data": {
      "image/png": "[encoded data removed]",
      "text/plain": [
       "plot without title"
      ]
     },
     "metadata": {},
     "output_type": "display_data"
    }
   ],
   "source": [
    "# vector to hold the cluster index for each detection                        \n",
    "detectionClusterIndex <- rep(0, numDetections)\n",
    "\n",
    "# find out which detections are noise (these will have a molecule index of zero)\n",
    "noiseDetections <- detectionList$moleculeIndex == 0\n",
    "\n",
    "# assign cluster indices to all detections which are not noise\n",
    "detectionClusterIndex[!noiseDetections] <- moleculeClusterIndex[detectionList$moleculeIndex[!noiseDetections]]\n",
    "\n",
    "# plot the results where detections are coloured by cluster\n",
    "plotClusterScatter(detectionList[ ,c('x', 'y')], detectionClusterIndex)"
   ]
  },
  {
   "cell_type": "markdown",
   "metadata": {},
   "source": [
    "## Exporting detection lists\n",
    "\n",
    "Simulations can easily be exported as csv files. Here we append the cluster index for each detection before saving. This dataset will be loaded and used in the \"Cluster analysis tutorial\"."
   ]
  },
  {
   "cell_type": "code",
   "execution_count": 15,
   "metadata": {},
   "outputs": [],
   "source": [
    "detectionList$clusterIndex <- detectionClusterIndex\n",
    "write.csv(detectionList, file = '../data/detectionListSimpleClusters.csv')"
   ]
  },
  {
   "cell_type": "code",
   "execution_count": null,
   "metadata": {},
   "outputs": [],
   "source": []
  }
 ],
 "metadata": {
  "kernelspec": {
   "display_name": "R",
   "language": "R",
   "name": "ir"
  },
  "language_info": {
   "codemirror_mode": "r",
   "file_extension": ".r",
   "mimetype": "text/x-r-source",
   "name": "R",
   "pygments_lexer": "r",
   "version": "3.4.3"
  }
 },
 "nbformat": 4,
 "nbformat_minor": 2
}
